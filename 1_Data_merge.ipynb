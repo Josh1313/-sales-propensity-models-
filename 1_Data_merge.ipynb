{
  "cells": [
    {
      "cell_type": "markdown",
      "metadata": {
        "id": "view-in-github",
        "colab_type": "text"
      },
      "source": [
        "<a href=\"https://colab.research.google.com/github/Josh1313/-sales-propensity-models-/blob/main/1_Data_merge.ipynb\" target=\"_parent\"><img src=\"https://colab.research.google.com/assets/colab-badge.svg\" alt=\"Open In Colab\"/></a>"
      ]
    },
    {
      "cell_type": "code",
      "execution_count": null,
      "metadata": {
        "id": "nT3Kca6kRe-E"
      },
      "outputs": [],
      "source": [
        "import pandas as pd\n",
        "import numpy as np"
      ]
    },
    {
      "cell_type": "code",
      "source": [
        "from google.colab import drive\n",
        "drive.mount('/content/drive')"
      ],
      "metadata": {
        "colab": {
          "base_uri": "https://localhost:8080/"
        },
        "id": "MJeO08g-90-J",
        "outputId": "82bcae71-6a73-4200-c5ae-87ddbaa910e2"
      },
      "execution_count": null,
      "outputs": [
        {
          "output_type": "stream",
          "name": "stdout",
          "text": [
            "Mounted at /content/drive\n"
          ]
        }
      ]
    },
    {
      "cell_type": "markdown",
      "metadata": {
        "id": "9caEfIfldemR"
      },
      "source": [
        "# Firstly, I will review the information from three databases.\n",
        "# Afterwards, I will determine the best way to merge all the information into a single dataset.\n",
        "# Finally, I will save the merged dataset in a pickle file"
      ]
    },
    {
      "cell_type": "markdown",
      "metadata": {
        "id": "Z6aixyLFdnnZ"
      },
      "source": [
        "File \"Commercial activity\""
      ]
    },
    {
      "cell_type": "code",
      "execution_count": null,
      "metadata": {
        "id": "DrOAOOb2Smqg"
      },
      "outputs": [],
      "source": [
        "df = pd.read_csv(\"/content/drive/MyDrive/Fintech/commercial_activity_df.csv\")"
      ]
    },
    {
      "cell_type": "code",
      "execution_count": null,
      "metadata": {
        "colab": {
          "base_uri": "https://localhost:8080/"
        },
        "id": "axidTQzaTWDM",
        "outputId": "fc74429c-d552-493d-c251-3fc349794220"
      },
      "outputs": [
        {
          "output_type": "execute_result",
          "data": {
            "text/plain": [
              "(5962924, 7)"
            ]
          },
          "metadata": {},
          "execution_count": 4
        }
      ],
      "source": [
        "df.shape"
      ]
    },
    {
      "cell_type": "code",
      "execution_count": null,
      "metadata": {
        "colab": {
          "base_uri": "https://localhost:8080/"
        },
        "id": "4u3VtG2aTF4g",
        "outputId": "1a4514da-8b73-4e60-c8ed-03dc87f12db5"
      },
      "outputs": [
        {
          "output_type": "stream",
          "name": "stdout",
          "text": [
            "<class 'pandas.core.frame.DataFrame'>\n",
            "RangeIndex: 5962924 entries, 0 to 5962923\n",
            "Data columns (total 7 columns):\n",
            " #   Column           Dtype  \n",
            "---  ------           -----  \n",
            " 0   Unnamed: 0       int64  \n",
            " 1   pk_cid           int64  \n",
            " 2   pk_partition     object \n",
            " 3   entry_date       object \n",
            " 4   entry_channel    object \n",
            " 5   active_customer  float64\n",
            " 6   segment          object \n",
            "dtypes: float64(1), int64(2), object(4)\n",
            "memory usage: 318.5+ MB\n"
          ]
        }
      ],
      "source": [
        "df.info()"
      ]
    },
    {
      "cell_type": "code",
      "execution_count": null,
      "metadata": {
        "colab": {
          "base_uri": "https://localhost:8080/",
          "height": 143
        },
        "id": "INK9v56VTLtI",
        "outputId": "df0fa4ac-4d4b-4b99-dc6a-84bc26fbdde8"
      },
      "outputs": [
        {
          "output_type": "execute_result",
          "data": {
            "text/plain": [
              "   Unnamed: 0   pk_cid pk_partition  entry_date entry_channel  \\\n",
              "0           0  1375586   2018-01-28  2018-01-12           KHL   \n",
              "1           1  1050611   2018-01-28  2015-08-10           KHE   \n",
              "2           2  1050612   2018-01-28  2015-08-10           KHE   \n",
              "\n",
              "   active_customer             segment  \n",
              "0              1.0   02 - PARTICULARES  \n",
              "1              0.0  03 - UNIVERSITARIO  \n",
              "2              0.0  03 - UNIVERSITARIO  "
            ],
            "text/html": [
              "\n",
              "  <div id=\"df-10ea6a71-ee48-4fbc-b122-2770aabf881c\">\n",
              "    <div class=\"colab-df-container\">\n",
              "      <div>\n",
              "<style scoped>\n",
              "    .dataframe tbody tr th:only-of-type {\n",
              "        vertical-align: middle;\n",
              "    }\n",
              "\n",
              "    .dataframe tbody tr th {\n",
              "        vertical-align: top;\n",
              "    }\n",
              "\n",
              "    .dataframe thead th {\n",
              "        text-align: right;\n",
              "    }\n",
              "</style>\n",
              "<table border=\"1\" class=\"dataframe\">\n",
              "  <thead>\n",
              "    <tr style=\"text-align: right;\">\n",
              "      <th></th>\n",
              "      <th>Unnamed: 0</th>\n",
              "      <th>pk_cid</th>\n",
              "      <th>pk_partition</th>\n",
              "      <th>entry_date</th>\n",
              "      <th>entry_channel</th>\n",
              "      <th>active_customer</th>\n",
              "      <th>segment</th>\n",
              "    </tr>\n",
              "  </thead>\n",
              "  <tbody>\n",
              "    <tr>\n",
              "      <th>0</th>\n",
              "      <td>0</td>\n",
              "      <td>1375586</td>\n",
              "      <td>2018-01-28</td>\n",
              "      <td>2018-01-12</td>\n",
              "      <td>KHL</td>\n",
              "      <td>1.0</td>\n",
              "      <td>02 - PARTICULARES</td>\n",
              "    </tr>\n",
              "    <tr>\n",
              "      <th>1</th>\n",
              "      <td>1</td>\n",
              "      <td>1050611</td>\n",
              "      <td>2018-01-28</td>\n",
              "      <td>2015-08-10</td>\n",
              "      <td>KHE</td>\n",
              "      <td>0.0</td>\n",
              "      <td>03 - UNIVERSITARIO</td>\n",
              "    </tr>\n",
              "    <tr>\n",
              "      <th>2</th>\n",
              "      <td>2</td>\n",
              "      <td>1050612</td>\n",
              "      <td>2018-01-28</td>\n",
              "      <td>2015-08-10</td>\n",
              "      <td>KHE</td>\n",
              "      <td>0.0</td>\n",
              "      <td>03 - UNIVERSITARIO</td>\n",
              "    </tr>\n",
              "  </tbody>\n",
              "</table>\n",
              "</div>\n",
              "      <button class=\"colab-df-convert\" onclick=\"convertToInteractive('df-10ea6a71-ee48-4fbc-b122-2770aabf881c')\"\n",
              "              title=\"Convert this dataframe to an interactive table.\"\n",
              "              style=\"display:none;\">\n",
              "        \n",
              "  <svg xmlns=\"http://www.w3.org/2000/svg\" height=\"24px\"viewBox=\"0 0 24 24\"\n",
              "       width=\"24px\">\n",
              "    <path d=\"M0 0h24v24H0V0z\" fill=\"none\"/>\n",
              "    <path d=\"M18.56 5.44l.94 2.06.94-2.06 2.06-.94-2.06-.94-.94-2.06-.94 2.06-2.06.94zm-11 1L8.5 8.5l.94-2.06 2.06-.94-2.06-.94L8.5 2.5l-.94 2.06-2.06.94zm10 10l.94 2.06.94-2.06 2.06-.94-2.06-.94-.94-2.06-.94 2.06-2.06.94z\"/><path d=\"M17.41 7.96l-1.37-1.37c-.4-.4-.92-.59-1.43-.59-.52 0-1.04.2-1.43.59L10.3 9.45l-7.72 7.72c-.78.78-.78 2.05 0 2.83L4 21.41c.39.39.9.59 1.41.59.51 0 1.02-.2 1.41-.59l7.78-7.78 2.81-2.81c.8-.78.8-2.07 0-2.86zM5.41 20L4 18.59l7.72-7.72 1.47 1.35L5.41 20z\"/>\n",
              "  </svg>\n",
              "      </button>\n",
              "      \n",
              "  <style>\n",
              "    .colab-df-container {\n",
              "      display:flex;\n",
              "      flex-wrap:wrap;\n",
              "      gap: 12px;\n",
              "    }\n",
              "\n",
              "    .colab-df-convert {\n",
              "      background-color: #E8F0FE;\n",
              "      border: none;\n",
              "      border-radius: 50%;\n",
              "      cursor: pointer;\n",
              "      display: none;\n",
              "      fill: #1967D2;\n",
              "      height: 32px;\n",
              "      padding: 0 0 0 0;\n",
              "      width: 32px;\n",
              "    }\n",
              "\n",
              "    .colab-df-convert:hover {\n",
              "      background-color: #E2EBFA;\n",
              "      box-shadow: 0px 1px 2px rgba(60, 64, 67, 0.3), 0px 1px 3px 1px rgba(60, 64, 67, 0.15);\n",
              "      fill: #174EA6;\n",
              "    }\n",
              "\n",
              "    [theme=dark] .colab-df-convert {\n",
              "      background-color: #3B4455;\n",
              "      fill: #D2E3FC;\n",
              "    }\n",
              "\n",
              "    [theme=dark] .colab-df-convert:hover {\n",
              "      background-color: #434B5C;\n",
              "      box-shadow: 0px 1px 3px 1px rgba(0, 0, 0, 0.15);\n",
              "      filter: drop-shadow(0px 1px 2px rgba(0, 0, 0, 0.3));\n",
              "      fill: #FFFFFF;\n",
              "    }\n",
              "  </style>\n",
              "\n",
              "      <script>\n",
              "        const buttonEl =\n",
              "          document.querySelector('#df-10ea6a71-ee48-4fbc-b122-2770aabf881c button.colab-df-convert');\n",
              "        buttonEl.style.display =\n",
              "          google.colab.kernel.accessAllowed ? 'block' : 'none';\n",
              "\n",
              "        async function convertToInteractive(key) {\n",
              "          const element = document.querySelector('#df-10ea6a71-ee48-4fbc-b122-2770aabf881c');\n",
              "          const dataTable =\n",
              "            await google.colab.kernel.invokeFunction('convertToInteractive',\n",
              "                                                     [key], {});\n",
              "          if (!dataTable) return;\n",
              "\n",
              "          const docLinkHtml = 'Like what you see? Visit the ' +\n",
              "            '<a target=\"_blank\" href=https://colab.research.google.com/notebooks/data_table.ipynb>data table notebook</a>'\n",
              "            + ' to learn more about interactive tables.';\n",
              "          element.innerHTML = '';\n",
              "          dataTable['output_type'] = 'display_data';\n",
              "          await google.colab.output.renderOutput(dataTable, element);\n",
              "          const docLink = document.createElement('div');\n",
              "          docLink.innerHTML = docLinkHtml;\n",
              "          element.appendChild(docLink);\n",
              "        }\n",
              "      </script>\n",
              "    </div>\n",
              "  </div>\n",
              "  "
            ]
          },
          "metadata": {},
          "execution_count": 6
        }
      ],
      "source": [
        "df.head(3)"
      ]
    },
    {
      "cell_type": "code",
      "execution_count": null,
      "metadata": {
        "colab": {
          "base_uri": "https://localhost:8080/"
        },
        "id": "Z-Apxd4aTUOp",
        "outputId": "7f64be24-accf-44b0-c588-c0c6c84b5da4"
      },
      "outputs": [
        {
          "output_type": "execute_result",
          "data": {
            "text/plain": [
              "Unnamed: 0              0\n",
              "pk_cid                  0\n",
              "pk_partition            0\n",
              "entry_date              0\n",
              "entry_channel      133033\n",
              "active_customer         0\n",
              "segment            133944\n",
              "dtype: int64"
            ]
          },
          "metadata": {},
          "execution_count": 7
        }
      ],
      "source": [
        "df.isnull().sum()"
      ]
    },
    {
      "cell_type": "markdown",
      "metadata": {
        "id": "OdBUD9ZCTuOZ"
      },
      "source": [
        "# File \"Product\""
      ]
    },
    {
      "cell_type": "code",
      "execution_count": null,
      "metadata": {
        "id": "4m-y_7LnTok4"
      },
      "outputs": [],
      "source": [
        "df1 = pd.read_csv(\"/content/drive/MyDrive/Fintech/products_df.csv\")"
      ]
    },
    {
      "cell_type": "code",
      "execution_count": null,
      "metadata": {
        "colab": {
          "base_uri": "https://localhost:8080/"
        },
        "id": "_wktoKapT2wB",
        "outputId": "b3c50ff4-dba0-4bc8-e10e-d2ab9b4161db"
      },
      "outputs": [
        {
          "output_type": "execute_result",
          "data": {
            "text/plain": [
              "(5962924, 18)"
            ]
          },
          "metadata": {},
          "execution_count": 9
        }
      ],
      "source": [
        "df1.shape"
      ]
    },
    {
      "cell_type": "code",
      "execution_count": null,
      "metadata": {
        "colab": {
          "base_uri": "https://localhost:8080/"
        },
        "id": "ydxI6okPT29N",
        "outputId": "9a338ef0-d905-47ae-96ed-711a4b5cdf65"
      },
      "outputs": [
        {
          "output_type": "stream",
          "name": "stdout",
          "text": [
            "<class 'pandas.core.frame.DataFrame'>\n",
            "RangeIndex: 5962924 entries, 0 to 5962923\n",
            "Data columns (total 18 columns):\n",
            " #   Column              Dtype  \n",
            "---  ------              -----  \n",
            " 0   Unnamed: 0          int64  \n",
            " 1   pk_cid              int64  \n",
            " 2   pk_partition        object \n",
            " 3   short_term_deposit  int64  \n",
            " 4   loans               int64  \n",
            " 5   mortgage            int64  \n",
            " 6   funds               int64  \n",
            " 7   securities          int64  \n",
            " 8   long_term_deposit   int64  \n",
            " 9   em_account_pp       int64  \n",
            " 10  credit_card         int64  \n",
            " 11  payroll             float64\n",
            " 12  pension_plan        float64\n",
            " 13  payroll_account     int64  \n",
            " 14  emc_account         int64  \n",
            " 15  debit_card          int64  \n",
            " 16  em_account_p        int64  \n",
            " 17  em_acount           int64  \n",
            "dtypes: float64(2), int64(15), object(1)\n",
            "memory usage: 818.9+ MB\n"
          ]
        }
      ],
      "source": [
        "df1.info()"
      ]
    },
    {
      "cell_type": "code",
      "execution_count": null,
      "metadata": {
        "colab": {
          "base_uri": "https://localhost:8080/",
          "height": 225
        },
        "id": "wdTtkp9FT2-z",
        "outputId": "14d1d277-9435-4b91-cce4-ca9843feead6"
      },
      "outputs": [
        {
          "output_type": "execute_result",
          "data": {
            "text/plain": [
              "   Unnamed: 0   pk_cid pk_partition  short_term_deposit  loans  mortgage  \\\n",
              "0           0  1375586   2018-01-28                   0      0         0   \n",
              "1           1  1050611   2018-01-28                   0      0         0   \n",
              "2           2  1050612   2018-01-28                   0      0         0   \n",
              "\n",
              "   funds  securities  long_term_deposit  em_account_pp  credit_card  payroll  \\\n",
              "0      0           0                  0              0            0      0.0   \n",
              "1      0           0                  0              0            0      0.0   \n",
              "2      0           0                  0              0            0      0.0   \n",
              "\n",
              "   pension_plan  payroll_account  emc_account  debit_card  em_account_p  \\\n",
              "0           0.0                0            0           0             0   \n",
              "1           0.0                0            0           0             0   \n",
              "2           0.0                0            0           0             0   \n",
              "\n",
              "   em_acount  \n",
              "0          1  \n",
              "1          1  \n",
              "2          1  "
            ],
            "text/html": [
              "\n",
              "  <div id=\"df-f91c8afd-084c-4560-9e62-9d0df18ccf21\">\n",
              "    <div class=\"colab-df-container\">\n",
              "      <div>\n",
              "<style scoped>\n",
              "    .dataframe tbody tr th:only-of-type {\n",
              "        vertical-align: middle;\n",
              "    }\n",
              "\n",
              "    .dataframe tbody tr th {\n",
              "        vertical-align: top;\n",
              "    }\n",
              "\n",
              "    .dataframe thead th {\n",
              "        text-align: right;\n",
              "    }\n",
              "</style>\n",
              "<table border=\"1\" class=\"dataframe\">\n",
              "  <thead>\n",
              "    <tr style=\"text-align: right;\">\n",
              "      <th></th>\n",
              "      <th>Unnamed: 0</th>\n",
              "      <th>pk_cid</th>\n",
              "      <th>pk_partition</th>\n",
              "      <th>short_term_deposit</th>\n",
              "      <th>loans</th>\n",
              "      <th>mortgage</th>\n",
              "      <th>funds</th>\n",
              "      <th>securities</th>\n",
              "      <th>long_term_deposit</th>\n",
              "      <th>em_account_pp</th>\n",
              "      <th>credit_card</th>\n",
              "      <th>payroll</th>\n",
              "      <th>pension_plan</th>\n",
              "      <th>payroll_account</th>\n",
              "      <th>emc_account</th>\n",
              "      <th>debit_card</th>\n",
              "      <th>em_account_p</th>\n",
              "      <th>em_acount</th>\n",
              "    </tr>\n",
              "  </thead>\n",
              "  <tbody>\n",
              "    <tr>\n",
              "      <th>0</th>\n",
              "      <td>0</td>\n",
              "      <td>1375586</td>\n",
              "      <td>2018-01-28</td>\n",
              "      <td>0</td>\n",
              "      <td>0</td>\n",
              "      <td>0</td>\n",
              "      <td>0</td>\n",
              "      <td>0</td>\n",
              "      <td>0</td>\n",
              "      <td>0</td>\n",
              "      <td>0</td>\n",
              "      <td>0.0</td>\n",
              "      <td>0.0</td>\n",
              "      <td>0</td>\n",
              "      <td>0</td>\n",
              "      <td>0</td>\n",
              "      <td>0</td>\n",
              "      <td>1</td>\n",
              "    </tr>\n",
              "    <tr>\n",
              "      <th>1</th>\n",
              "      <td>1</td>\n",
              "      <td>1050611</td>\n",
              "      <td>2018-01-28</td>\n",
              "      <td>0</td>\n",
              "      <td>0</td>\n",
              "      <td>0</td>\n",
              "      <td>0</td>\n",
              "      <td>0</td>\n",
              "      <td>0</td>\n",
              "      <td>0</td>\n",
              "      <td>0</td>\n",
              "      <td>0.0</td>\n",
              "      <td>0.0</td>\n",
              "      <td>0</td>\n",
              "      <td>0</td>\n",
              "      <td>0</td>\n",
              "      <td>0</td>\n",
              "      <td>1</td>\n",
              "    </tr>\n",
              "    <tr>\n",
              "      <th>2</th>\n",
              "      <td>2</td>\n",
              "      <td>1050612</td>\n",
              "      <td>2018-01-28</td>\n",
              "      <td>0</td>\n",
              "      <td>0</td>\n",
              "      <td>0</td>\n",
              "      <td>0</td>\n",
              "      <td>0</td>\n",
              "      <td>0</td>\n",
              "      <td>0</td>\n",
              "      <td>0</td>\n",
              "      <td>0.0</td>\n",
              "      <td>0.0</td>\n",
              "      <td>0</td>\n",
              "      <td>0</td>\n",
              "      <td>0</td>\n",
              "      <td>0</td>\n",
              "      <td>1</td>\n",
              "    </tr>\n",
              "  </tbody>\n",
              "</table>\n",
              "</div>\n",
              "      <button class=\"colab-df-convert\" onclick=\"convertToInteractive('df-f91c8afd-084c-4560-9e62-9d0df18ccf21')\"\n",
              "              title=\"Convert this dataframe to an interactive table.\"\n",
              "              style=\"display:none;\">\n",
              "        \n",
              "  <svg xmlns=\"http://www.w3.org/2000/svg\" height=\"24px\"viewBox=\"0 0 24 24\"\n",
              "       width=\"24px\">\n",
              "    <path d=\"M0 0h24v24H0V0z\" fill=\"none\"/>\n",
              "    <path d=\"M18.56 5.44l.94 2.06.94-2.06 2.06-.94-2.06-.94-.94-2.06-.94 2.06-2.06.94zm-11 1L8.5 8.5l.94-2.06 2.06-.94-2.06-.94L8.5 2.5l-.94 2.06-2.06.94zm10 10l.94 2.06.94-2.06 2.06-.94-2.06-.94-.94-2.06-.94 2.06-2.06.94z\"/><path d=\"M17.41 7.96l-1.37-1.37c-.4-.4-.92-.59-1.43-.59-.52 0-1.04.2-1.43.59L10.3 9.45l-7.72 7.72c-.78.78-.78 2.05 0 2.83L4 21.41c.39.39.9.59 1.41.59.51 0 1.02-.2 1.41-.59l7.78-7.78 2.81-2.81c.8-.78.8-2.07 0-2.86zM5.41 20L4 18.59l7.72-7.72 1.47 1.35L5.41 20z\"/>\n",
              "  </svg>\n",
              "      </button>\n",
              "      \n",
              "  <style>\n",
              "    .colab-df-container {\n",
              "      display:flex;\n",
              "      flex-wrap:wrap;\n",
              "      gap: 12px;\n",
              "    }\n",
              "\n",
              "    .colab-df-convert {\n",
              "      background-color: #E8F0FE;\n",
              "      border: none;\n",
              "      border-radius: 50%;\n",
              "      cursor: pointer;\n",
              "      display: none;\n",
              "      fill: #1967D2;\n",
              "      height: 32px;\n",
              "      padding: 0 0 0 0;\n",
              "      width: 32px;\n",
              "    }\n",
              "\n",
              "    .colab-df-convert:hover {\n",
              "      background-color: #E2EBFA;\n",
              "      box-shadow: 0px 1px 2px rgba(60, 64, 67, 0.3), 0px 1px 3px 1px rgba(60, 64, 67, 0.15);\n",
              "      fill: #174EA6;\n",
              "    }\n",
              "\n",
              "    [theme=dark] .colab-df-convert {\n",
              "      background-color: #3B4455;\n",
              "      fill: #D2E3FC;\n",
              "    }\n",
              "\n",
              "    [theme=dark] .colab-df-convert:hover {\n",
              "      background-color: #434B5C;\n",
              "      box-shadow: 0px 1px 3px 1px rgba(0, 0, 0, 0.15);\n",
              "      filter: drop-shadow(0px 1px 2px rgba(0, 0, 0, 0.3));\n",
              "      fill: #FFFFFF;\n",
              "    }\n",
              "  </style>\n",
              "\n",
              "      <script>\n",
              "        const buttonEl =\n",
              "          document.querySelector('#df-f91c8afd-084c-4560-9e62-9d0df18ccf21 button.colab-df-convert');\n",
              "        buttonEl.style.display =\n",
              "          google.colab.kernel.accessAllowed ? 'block' : 'none';\n",
              "\n",
              "        async function convertToInteractive(key) {\n",
              "          const element = document.querySelector('#df-f91c8afd-084c-4560-9e62-9d0df18ccf21');\n",
              "          const dataTable =\n",
              "            await google.colab.kernel.invokeFunction('convertToInteractive',\n",
              "                                                     [key], {});\n",
              "          if (!dataTable) return;\n",
              "\n",
              "          const docLinkHtml = 'Like what you see? Visit the ' +\n",
              "            '<a target=\"_blank\" href=https://colab.research.google.com/notebooks/data_table.ipynb>data table notebook</a>'\n",
              "            + ' to learn more about interactive tables.';\n",
              "          element.innerHTML = '';\n",
              "          dataTable['output_type'] = 'display_data';\n",
              "          await google.colab.output.renderOutput(dataTable, element);\n",
              "          const docLink = document.createElement('div');\n",
              "          docLink.innerHTML = docLinkHtml;\n",
              "          element.appendChild(docLink);\n",
              "        }\n",
              "      </script>\n",
              "    </div>\n",
              "  </div>\n",
              "  "
            ]
          },
          "metadata": {},
          "execution_count": 11
        }
      ],
      "source": [
        "df1.head(3)"
      ]
    },
    {
      "cell_type": "code",
      "execution_count": null,
      "metadata": {
        "colab": {
          "base_uri": "https://localhost:8080/"
        },
        "id": "xI4WnG1rT3DC",
        "outputId": "979ca63c-9ed5-486d-fe80-b62facbe8936"
      },
      "outputs": [
        {
          "output_type": "execute_result",
          "data": {
            "text/plain": [
              "Unnamed: 0             0\n",
              "pk_cid                 0\n",
              "pk_partition           0\n",
              "short_term_deposit     0\n",
              "loans                  0\n",
              "mortgage               0\n",
              "funds                  0\n",
              "securities             0\n",
              "long_term_deposit      0\n",
              "em_account_pp          0\n",
              "credit_card            0\n",
              "payroll               61\n",
              "pension_plan          61\n",
              "payroll_account        0\n",
              "emc_account            0\n",
              "debit_card             0\n",
              "em_account_p           0\n",
              "em_acount              0\n",
              "dtype: int64"
            ]
          },
          "metadata": {},
          "execution_count": 12
        }
      ],
      "source": [
        "df1.isnull().sum()"
      ]
    },
    {
      "cell_type": "markdown",
      "metadata": {
        "id": "qNGWZHP2UIQc"
      },
      "source": [
        "# File  \"Sociodemographic\""
      ]
    },
    {
      "cell_type": "code",
      "execution_count": null,
      "metadata": {
        "id": "dH0SqcmRUUpv"
      },
      "outputs": [],
      "source": [
        "df2 = pd.read_csv(\"/content/drive/MyDrive/Fintech/sociodemographic_df.csv\")"
      ]
    },
    {
      "cell_type": "code",
      "execution_count": null,
      "metadata": {
        "colab": {
          "base_uri": "https://localhost:8080/"
        },
        "id": "JpYah9ZoUU3O",
        "outputId": "2f6d803b-8d31-4f93-bc15-70dc62b6f5f6"
      },
      "outputs": [
        {
          "output_type": "execute_result",
          "data": {
            "text/plain": [
              "(5962924, 9)"
            ]
          },
          "metadata": {},
          "execution_count": 14
        }
      ],
      "source": [
        "df2.shape"
      ]
    },
    {
      "cell_type": "code",
      "execution_count": null,
      "metadata": {
        "colab": {
          "base_uri": "https://localhost:8080/"
        },
        "id": "rslrdnOBUU45",
        "outputId": "957e016b-b5b3-4702-921d-db95d53847af"
      },
      "outputs": [
        {
          "output_type": "stream",
          "name": "stdout",
          "text": [
            "<class 'pandas.core.frame.DataFrame'>\n",
            "RangeIndex: 5962924 entries, 0 to 5962923\n",
            "Data columns (total 9 columns):\n",
            " #   Column        Dtype  \n",
            "---  ------        -----  \n",
            " 0   Unnamed: 0    int64  \n",
            " 1   pk_cid        int64  \n",
            " 2   pk_partition  object \n",
            " 3   country_id    object \n",
            " 4   region_code   float64\n",
            " 5   gender        object \n",
            " 6   age           int64  \n",
            " 7   deceased      object \n",
            " 8   salary        float64\n",
            "dtypes: float64(2), int64(3), object(4)\n",
            "memory usage: 409.4+ MB\n"
          ]
        }
      ],
      "source": [
        "df2.info()"
      ]
    },
    {
      "cell_type": "code",
      "execution_count": null,
      "metadata": {
        "colab": {
          "base_uri": "https://localhost:8080/",
          "height": 143
        },
        "id": "BFpBScD4UU9K",
        "outputId": "1eb14add-c36c-413c-c12c-6cf8dca62d85"
      },
      "outputs": [
        {
          "output_type": "execute_result",
          "data": {
            "text/plain": [
              "   Unnamed: 0   pk_cid pk_partition country_id  region_code gender  age  \\\n",
              "0           0  1375586   2018-01-28         ES         29.0      H   35   \n",
              "1           1  1050611   2018-01-28         ES         13.0      V   23   \n",
              "2           2  1050612   2018-01-28         ES         13.0      V   23   \n",
              "\n",
              "  deceased     salary  \n",
              "0        N   87218.10  \n",
              "1        N   35548.74  \n",
              "2        N  122179.11  "
            ],
            "text/html": [
              "\n",
              "  <div id=\"df-95759abb-2f2b-4925-a5e7-0bd8bdc59611\">\n",
              "    <div class=\"colab-df-container\">\n",
              "      <div>\n",
              "<style scoped>\n",
              "    .dataframe tbody tr th:only-of-type {\n",
              "        vertical-align: middle;\n",
              "    }\n",
              "\n",
              "    .dataframe tbody tr th {\n",
              "        vertical-align: top;\n",
              "    }\n",
              "\n",
              "    .dataframe thead th {\n",
              "        text-align: right;\n",
              "    }\n",
              "</style>\n",
              "<table border=\"1\" class=\"dataframe\">\n",
              "  <thead>\n",
              "    <tr style=\"text-align: right;\">\n",
              "      <th></th>\n",
              "      <th>Unnamed: 0</th>\n",
              "      <th>pk_cid</th>\n",
              "      <th>pk_partition</th>\n",
              "      <th>country_id</th>\n",
              "      <th>region_code</th>\n",
              "      <th>gender</th>\n",
              "      <th>age</th>\n",
              "      <th>deceased</th>\n",
              "      <th>salary</th>\n",
              "    </tr>\n",
              "  </thead>\n",
              "  <tbody>\n",
              "    <tr>\n",
              "      <th>0</th>\n",
              "      <td>0</td>\n",
              "      <td>1375586</td>\n",
              "      <td>2018-01-28</td>\n",
              "      <td>ES</td>\n",
              "      <td>29.0</td>\n",
              "      <td>H</td>\n",
              "      <td>35</td>\n",
              "      <td>N</td>\n",
              "      <td>87218.10</td>\n",
              "    </tr>\n",
              "    <tr>\n",
              "      <th>1</th>\n",
              "      <td>1</td>\n",
              "      <td>1050611</td>\n",
              "      <td>2018-01-28</td>\n",
              "      <td>ES</td>\n",
              "      <td>13.0</td>\n",
              "      <td>V</td>\n",
              "      <td>23</td>\n",
              "      <td>N</td>\n",
              "      <td>35548.74</td>\n",
              "    </tr>\n",
              "    <tr>\n",
              "      <th>2</th>\n",
              "      <td>2</td>\n",
              "      <td>1050612</td>\n",
              "      <td>2018-01-28</td>\n",
              "      <td>ES</td>\n",
              "      <td>13.0</td>\n",
              "      <td>V</td>\n",
              "      <td>23</td>\n",
              "      <td>N</td>\n",
              "      <td>122179.11</td>\n",
              "    </tr>\n",
              "  </tbody>\n",
              "</table>\n",
              "</div>\n",
              "      <button class=\"colab-df-convert\" onclick=\"convertToInteractive('df-95759abb-2f2b-4925-a5e7-0bd8bdc59611')\"\n",
              "              title=\"Convert this dataframe to an interactive table.\"\n",
              "              style=\"display:none;\">\n",
              "        \n",
              "  <svg xmlns=\"http://www.w3.org/2000/svg\" height=\"24px\"viewBox=\"0 0 24 24\"\n",
              "       width=\"24px\">\n",
              "    <path d=\"M0 0h24v24H0V0z\" fill=\"none\"/>\n",
              "    <path d=\"M18.56 5.44l.94 2.06.94-2.06 2.06-.94-2.06-.94-.94-2.06-.94 2.06-2.06.94zm-11 1L8.5 8.5l.94-2.06 2.06-.94-2.06-.94L8.5 2.5l-.94 2.06-2.06.94zm10 10l.94 2.06.94-2.06 2.06-.94-2.06-.94-.94-2.06-.94 2.06-2.06.94z\"/><path d=\"M17.41 7.96l-1.37-1.37c-.4-.4-.92-.59-1.43-.59-.52 0-1.04.2-1.43.59L10.3 9.45l-7.72 7.72c-.78.78-.78 2.05 0 2.83L4 21.41c.39.39.9.59 1.41.59.51 0 1.02-.2 1.41-.59l7.78-7.78 2.81-2.81c.8-.78.8-2.07 0-2.86zM5.41 20L4 18.59l7.72-7.72 1.47 1.35L5.41 20z\"/>\n",
              "  </svg>\n",
              "      </button>\n",
              "      \n",
              "  <style>\n",
              "    .colab-df-container {\n",
              "      display:flex;\n",
              "      flex-wrap:wrap;\n",
              "      gap: 12px;\n",
              "    }\n",
              "\n",
              "    .colab-df-convert {\n",
              "      background-color: #E8F0FE;\n",
              "      border: none;\n",
              "      border-radius: 50%;\n",
              "      cursor: pointer;\n",
              "      display: none;\n",
              "      fill: #1967D2;\n",
              "      height: 32px;\n",
              "      padding: 0 0 0 0;\n",
              "      width: 32px;\n",
              "    }\n",
              "\n",
              "    .colab-df-convert:hover {\n",
              "      background-color: #E2EBFA;\n",
              "      box-shadow: 0px 1px 2px rgba(60, 64, 67, 0.3), 0px 1px 3px 1px rgba(60, 64, 67, 0.15);\n",
              "      fill: #174EA6;\n",
              "    }\n",
              "\n",
              "    [theme=dark] .colab-df-convert {\n",
              "      background-color: #3B4455;\n",
              "      fill: #D2E3FC;\n",
              "    }\n",
              "\n",
              "    [theme=dark] .colab-df-convert:hover {\n",
              "      background-color: #434B5C;\n",
              "      box-shadow: 0px 1px 3px 1px rgba(0, 0, 0, 0.15);\n",
              "      filter: drop-shadow(0px 1px 2px rgba(0, 0, 0, 0.3));\n",
              "      fill: #FFFFFF;\n",
              "    }\n",
              "  </style>\n",
              "\n",
              "      <script>\n",
              "        const buttonEl =\n",
              "          document.querySelector('#df-95759abb-2f2b-4925-a5e7-0bd8bdc59611 button.colab-df-convert');\n",
              "        buttonEl.style.display =\n",
              "          google.colab.kernel.accessAllowed ? 'block' : 'none';\n",
              "\n",
              "        async function convertToInteractive(key) {\n",
              "          const element = document.querySelector('#df-95759abb-2f2b-4925-a5e7-0bd8bdc59611');\n",
              "          const dataTable =\n",
              "            await google.colab.kernel.invokeFunction('convertToInteractive',\n",
              "                                                     [key], {});\n",
              "          if (!dataTable) return;\n",
              "\n",
              "          const docLinkHtml = 'Like what you see? Visit the ' +\n",
              "            '<a target=\"_blank\" href=https://colab.research.google.com/notebooks/data_table.ipynb>data table notebook</a>'\n",
              "            + ' to learn more about interactive tables.';\n",
              "          element.innerHTML = '';\n",
              "          dataTable['output_type'] = 'display_data';\n",
              "          await google.colab.output.renderOutput(dataTable, element);\n",
              "          const docLink = document.createElement('div');\n",
              "          docLink.innerHTML = docLinkHtml;\n",
              "          element.appendChild(docLink);\n",
              "        }\n",
              "      </script>\n",
              "    </div>\n",
              "  </div>\n",
              "  "
            ]
          },
          "metadata": {},
          "execution_count": 16
        }
      ],
      "source": [
        "df2.head(3)"
      ]
    },
    {
      "cell_type": "code",
      "execution_count": null,
      "metadata": {
        "colab": {
          "base_uri": "https://localhost:8080/"
        },
        "id": "GNm_seS7Uc3Z",
        "outputId": "f9c76687-f8f2-4c08-d65b-50ed3e787e6f"
      },
      "outputs": [
        {
          "output_type": "execute_result",
          "data": {
            "text/plain": [
              "Unnamed: 0            0\n",
              "pk_cid                0\n",
              "pk_partition          0\n",
              "country_id            0\n",
              "region_code        2264\n",
              "gender               25\n",
              "age                   0\n",
              "deceased              0\n",
              "salary          1512103\n",
              "dtype: int64"
            ]
          },
          "metadata": {},
          "execution_count": 17
        }
      ],
      "source": [
        "df2.isnull().sum()"
      ]
    },
    {
      "cell_type": "markdown",
      "metadata": {
        "id": "vhbh2rumXJXC"
      },
      "source": [
        "# Now that I have reviewed the databases and understood that they share the same entries and have two common columns, I will use the merge function to make databases into one, aligning them from the right side and by columns that they share in commun.\n",
        "\n",
        "# Before proceeding, I will save the merged dataset in a pickle file located in my data folder.\n",
        "\n",
        "# Afterwards, I will read the pickle file once again to start working on the project."
      ]
    },
    {
      "cell_type": "code",
      "execution_count": null,
      "metadata": {
        "colab": {
          "base_uri": "https://localhost:8080/"
        },
        "id": "H9F5xsfuXIT5",
        "outputId": "a8580b9c-a60b-4893-87dd-a07a13e758c8"
      },
      "outputs": [
        {
          "output_type": "stream",
          "name": "stdout",
          "text": [
            "Archivos concatenados exitosamente.\n"
          ]
        }
      ],
      "source": [
        "import pandas as pd\n",
        "\n",
        "# Rutas de los archivos a merge\n",
        "archivo1 = \"/content/drive/MyDrive/Fintech/commercial_activity_df.csv\"\n",
        "archivo2 = \"/content/drive/MyDrive/Fintech/products_df.csv\"\n",
        "archivo3 = \"/content/drive/MyDrive/Fintech/sociodemographic_df.csv\"\n",
        "\n",
        "# Leer los archivos como dataframes\n",
        "df1 = pd.read_csv(archivo1)\n",
        "df2 = pd.read_csv(archivo2)\n",
        "df3 = pd.read_csv(archivo3)\n",
        "\n",
        "# Concatenar los dataframes por columnas\n",
        "columna_juntas = [\"pk_cid\", \"pk_partition\"]\n",
        "\n",
        "#realiza la union con merge para que lo junte por las dos olumnas en comun\n",
        "dfc = pd.merge(df1, df2, on=columna_juntas)\n",
        "dfc = pd.merge(dfc, df3, on=columna_juntas)\n",
        "\n",
        "archivo_concatenado = \"/content/drive/MyDrive/Fintech/concatenado.pkl\"\n",
        "dfc.to_pickle(archivo_concatenado)\n",
        "\n",
        "print(\"Archivos concatenados exitosamente.\")\n"
      ]
    },
    {
      "cell_type": "markdown",
      "metadata": {
        "id": "6uOUaN-XbTGt"
      },
      "source": [
        "# Now, i will read the merge document to see if was properly save and merge"
      ]
    },
    {
      "cell_type": "code",
      "execution_count": null,
      "metadata": {
        "id": "tE8qjY05bYYY"
      },
      "outputs": [],
      "source": [
        "# Leer el archivo pickle y cargarlo como un dataframe\n",
        "df1 = pd.read_pickle(\"/content/drive/MyDrive/Fintech/concatenado.pkl\")"
      ]
    },
    {
      "cell_type": "code",
      "execution_count": null,
      "metadata": {
        "colab": {
          "base_uri": "https://localhost:8080/"
        },
        "id": "y7LtyfTdYkWU",
        "outputId": "af14c6cd-9d17-4c4c-e156-8c029a11e72c"
      },
      "outputs": [
        {
          "output_type": "execute_result",
          "data": {
            "text/plain": [
              "(5962924, 30)"
            ]
          },
          "metadata": {},
          "execution_count": 22
        }
      ],
      "source": [
        "df1.shape"
      ]
    },
    {
      "cell_type": "code",
      "execution_count": null,
      "metadata": {
        "colab": {
          "base_uri": "https://localhost:8080/"
        },
        "id": "HHnN0FIPYust",
        "outputId": "3ab1e3e7-a8bc-4516-fc1c-0983ffe17071"
      },
      "outputs": [
        {
          "output_type": "execute_result",
          "data": {
            "text/plain": [
              "34"
            ]
          },
          "metadata": {},
          "execution_count": 23
        }
      ],
      "source": [
        "9+7+18 # COLUMNAS DE CADA DATA SET - menos 4 columnas que se removieron por ser por la cules las juntamos"
      ]
    },
    {
      "cell_type": "code",
      "execution_count": null,
      "metadata": {
        "colab": {
          "base_uri": "https://localhost:8080/"
        },
        "id": "QdPnxbvCZSCp",
        "outputId": "a16ad1d1-5b88-41f6-9741-365cf2d62bfc"
      },
      "outputs": [
        {
          "output_type": "stream",
          "name": "stdout",
          "text": [
            "<class 'pandas.core.frame.DataFrame'>\n",
            "Int64Index: 5962924 entries, 0 to 5962923\n",
            "Data columns (total 30 columns):\n",
            " #   Column              Dtype  \n",
            "---  ------              -----  \n",
            " 0   Unnamed: 0_x        int64  \n",
            " 1   pk_cid              int64  \n",
            " 2   pk_partition        object \n",
            " 3   entry_date          object \n",
            " 4   entry_channel       object \n",
            " 5   active_customer     float64\n",
            " 6   segment             object \n",
            " 7   Unnamed: 0_y        int64  \n",
            " 8   short_term_deposit  int64  \n",
            " 9   loans               int64  \n",
            " 10  mortgage            int64  \n",
            " 11  funds               int64  \n",
            " 12  securities          int64  \n",
            " 13  long_term_deposit   int64  \n",
            " 14  em_account_pp       int64  \n",
            " 15  credit_card         int64  \n",
            " 16  payroll             float64\n",
            " 17  pension_plan        float64\n",
            " 18  payroll_account     int64  \n",
            " 19  emc_account         int64  \n",
            " 20  debit_card          int64  \n",
            " 21  em_account_p        int64  \n",
            " 22  em_acount           int64  \n",
            " 23  Unnamed: 0          int64  \n",
            " 24  country_id          object \n",
            " 25  region_code         float64\n",
            " 26  gender              object \n",
            " 27  age                 int64  \n",
            " 28  deceased            object \n",
            " 29  salary              float64\n",
            "dtypes: float64(5), int64(18), object(7)\n",
            "memory usage: 1.4+ GB\n"
          ]
        }
      ],
      "source": [
        "df1.info()"
      ]
    },
    {
      "cell_type": "code",
      "source": [
        "dfc.head(3)"
      ],
      "metadata": {
        "colab": {
          "base_uri": "https://localhost:8080/",
          "height": 306
        },
        "id": "xjFb0vncPD9L",
        "outputId": "a7cdbe06-4f6b-4dd4-d07d-0ed95d8b47aa"
      },
      "execution_count": null,
      "outputs": [
        {
          "output_type": "execute_result",
          "data": {
            "text/plain": [
              "   Unnamed: 0_x   pk_cid pk_partition  entry_date entry_channel  \\\n",
              "0             0  1375586   2018-01-28  2018-01-12           KHL   \n",
              "1             1  1050611   2018-01-28  2015-08-10           KHE   \n",
              "2             2  1050612   2018-01-28  2015-08-10           KHE   \n",
              "\n",
              "   active_customer             segment  Unnamed: 0_y  short_term_deposit  \\\n",
              "0              1.0   02 - PARTICULARES             0                   0   \n",
              "1              0.0  03 - UNIVERSITARIO             1                   0   \n",
              "2              0.0  03 - UNIVERSITARIO             2                   0   \n",
              "\n",
              "   loans  ...  debit_card  em_account_p  em_acount  Unnamed: 0  country_id  \\\n",
              "0      0  ...           0             0          1           0          ES   \n",
              "1      0  ...           0             0          1           1          ES   \n",
              "2      0  ...           0             0          1           2          ES   \n",
              "\n",
              "   region_code  gender  age  deceased     salary  \n",
              "0         29.0       H   35         N   87218.10  \n",
              "1         13.0       V   23         N   35548.74  \n",
              "2         13.0       V   23         N  122179.11  \n",
              "\n",
              "[3 rows x 30 columns]"
            ],
            "text/html": [
              "\n",
              "  <div id=\"df-90e681b0-cd00-4927-8557-6947a5d3239f\">\n",
              "    <div class=\"colab-df-container\">\n",
              "      <div>\n",
              "<style scoped>\n",
              "    .dataframe tbody tr th:only-of-type {\n",
              "        vertical-align: middle;\n",
              "    }\n",
              "\n",
              "    .dataframe tbody tr th {\n",
              "        vertical-align: top;\n",
              "    }\n",
              "\n",
              "    .dataframe thead th {\n",
              "        text-align: right;\n",
              "    }\n",
              "</style>\n",
              "<table border=\"1\" class=\"dataframe\">\n",
              "  <thead>\n",
              "    <tr style=\"text-align: right;\">\n",
              "      <th></th>\n",
              "      <th>Unnamed: 0_x</th>\n",
              "      <th>pk_cid</th>\n",
              "      <th>pk_partition</th>\n",
              "      <th>entry_date</th>\n",
              "      <th>entry_channel</th>\n",
              "      <th>active_customer</th>\n",
              "      <th>segment</th>\n",
              "      <th>Unnamed: 0_y</th>\n",
              "      <th>short_term_deposit</th>\n",
              "      <th>loans</th>\n",
              "      <th>...</th>\n",
              "      <th>debit_card</th>\n",
              "      <th>em_account_p</th>\n",
              "      <th>em_acount</th>\n",
              "      <th>Unnamed: 0</th>\n",
              "      <th>country_id</th>\n",
              "      <th>region_code</th>\n",
              "      <th>gender</th>\n",
              "      <th>age</th>\n",
              "      <th>deceased</th>\n",
              "      <th>salary</th>\n",
              "    </tr>\n",
              "  </thead>\n",
              "  <tbody>\n",
              "    <tr>\n",
              "      <th>0</th>\n",
              "      <td>0</td>\n",
              "      <td>1375586</td>\n",
              "      <td>2018-01-28</td>\n",
              "      <td>2018-01-12</td>\n",
              "      <td>KHL</td>\n",
              "      <td>1.0</td>\n",
              "      <td>02 - PARTICULARES</td>\n",
              "      <td>0</td>\n",
              "      <td>0</td>\n",
              "      <td>0</td>\n",
              "      <td>...</td>\n",
              "      <td>0</td>\n",
              "      <td>0</td>\n",
              "      <td>1</td>\n",
              "      <td>0</td>\n",
              "      <td>ES</td>\n",
              "      <td>29.0</td>\n",
              "      <td>H</td>\n",
              "      <td>35</td>\n",
              "      <td>N</td>\n",
              "      <td>87218.10</td>\n",
              "    </tr>\n",
              "    <tr>\n",
              "      <th>1</th>\n",
              "      <td>1</td>\n",
              "      <td>1050611</td>\n",
              "      <td>2018-01-28</td>\n",
              "      <td>2015-08-10</td>\n",
              "      <td>KHE</td>\n",
              "      <td>0.0</td>\n",
              "      <td>03 - UNIVERSITARIO</td>\n",
              "      <td>1</td>\n",
              "      <td>0</td>\n",
              "      <td>0</td>\n",
              "      <td>...</td>\n",
              "      <td>0</td>\n",
              "      <td>0</td>\n",
              "      <td>1</td>\n",
              "      <td>1</td>\n",
              "      <td>ES</td>\n",
              "      <td>13.0</td>\n",
              "      <td>V</td>\n",
              "      <td>23</td>\n",
              "      <td>N</td>\n",
              "      <td>35548.74</td>\n",
              "    </tr>\n",
              "    <tr>\n",
              "      <th>2</th>\n",
              "      <td>2</td>\n",
              "      <td>1050612</td>\n",
              "      <td>2018-01-28</td>\n",
              "      <td>2015-08-10</td>\n",
              "      <td>KHE</td>\n",
              "      <td>0.0</td>\n",
              "      <td>03 - UNIVERSITARIO</td>\n",
              "      <td>2</td>\n",
              "      <td>0</td>\n",
              "      <td>0</td>\n",
              "      <td>...</td>\n",
              "      <td>0</td>\n",
              "      <td>0</td>\n",
              "      <td>1</td>\n",
              "      <td>2</td>\n",
              "      <td>ES</td>\n",
              "      <td>13.0</td>\n",
              "      <td>V</td>\n",
              "      <td>23</td>\n",
              "      <td>N</td>\n",
              "      <td>122179.11</td>\n",
              "    </tr>\n",
              "  </tbody>\n",
              "</table>\n",
              "<p>3 rows × 30 columns</p>\n",
              "</div>\n",
              "      <button class=\"colab-df-convert\" onclick=\"convertToInteractive('df-90e681b0-cd00-4927-8557-6947a5d3239f')\"\n",
              "              title=\"Convert this dataframe to an interactive table.\"\n",
              "              style=\"display:none;\">\n",
              "        \n",
              "  <svg xmlns=\"http://www.w3.org/2000/svg\" height=\"24px\"viewBox=\"0 0 24 24\"\n",
              "       width=\"24px\">\n",
              "    <path d=\"M0 0h24v24H0V0z\" fill=\"none\"/>\n",
              "    <path d=\"M18.56 5.44l.94 2.06.94-2.06 2.06-.94-2.06-.94-.94-2.06-.94 2.06-2.06.94zm-11 1L8.5 8.5l.94-2.06 2.06-.94-2.06-.94L8.5 2.5l-.94 2.06-2.06.94zm10 10l.94 2.06.94-2.06 2.06-.94-2.06-.94-.94-2.06-.94 2.06-2.06.94z\"/><path d=\"M17.41 7.96l-1.37-1.37c-.4-.4-.92-.59-1.43-.59-.52 0-1.04.2-1.43.59L10.3 9.45l-7.72 7.72c-.78.78-.78 2.05 0 2.83L4 21.41c.39.39.9.59 1.41.59.51 0 1.02-.2 1.41-.59l7.78-7.78 2.81-2.81c.8-.78.8-2.07 0-2.86zM5.41 20L4 18.59l7.72-7.72 1.47 1.35L5.41 20z\"/>\n",
              "  </svg>\n",
              "      </button>\n",
              "      \n",
              "  <style>\n",
              "    .colab-df-container {\n",
              "      display:flex;\n",
              "      flex-wrap:wrap;\n",
              "      gap: 12px;\n",
              "    }\n",
              "\n",
              "    .colab-df-convert {\n",
              "      background-color: #E8F0FE;\n",
              "      border: none;\n",
              "      border-radius: 50%;\n",
              "      cursor: pointer;\n",
              "      display: none;\n",
              "      fill: #1967D2;\n",
              "      height: 32px;\n",
              "      padding: 0 0 0 0;\n",
              "      width: 32px;\n",
              "    }\n",
              "\n",
              "    .colab-df-convert:hover {\n",
              "      background-color: #E2EBFA;\n",
              "      box-shadow: 0px 1px 2px rgba(60, 64, 67, 0.3), 0px 1px 3px 1px rgba(60, 64, 67, 0.15);\n",
              "      fill: #174EA6;\n",
              "    }\n",
              "\n",
              "    [theme=dark] .colab-df-convert {\n",
              "      background-color: #3B4455;\n",
              "      fill: #D2E3FC;\n",
              "    }\n",
              "\n",
              "    [theme=dark] .colab-df-convert:hover {\n",
              "      background-color: #434B5C;\n",
              "      box-shadow: 0px 1px 3px 1px rgba(0, 0, 0, 0.15);\n",
              "      filter: drop-shadow(0px 1px 2px rgba(0, 0, 0, 0.3));\n",
              "      fill: #FFFFFF;\n",
              "    }\n",
              "  </style>\n",
              "\n",
              "      <script>\n",
              "        const buttonEl =\n",
              "          document.querySelector('#df-90e681b0-cd00-4927-8557-6947a5d3239f button.colab-df-convert');\n",
              "        buttonEl.style.display =\n",
              "          google.colab.kernel.accessAllowed ? 'block' : 'none';\n",
              "\n",
              "        async function convertToInteractive(key) {\n",
              "          const element = document.querySelector('#df-90e681b0-cd00-4927-8557-6947a5d3239f');\n",
              "          const dataTable =\n",
              "            await google.colab.kernel.invokeFunction('convertToInteractive',\n",
              "                                                     [key], {});\n",
              "          if (!dataTable) return;\n",
              "\n",
              "          const docLinkHtml = 'Like what you see? Visit the ' +\n",
              "            '<a target=\"_blank\" href=https://colab.research.google.com/notebooks/data_table.ipynb>data table notebook</a>'\n",
              "            + ' to learn more about interactive tables.';\n",
              "          element.innerHTML = '';\n",
              "          dataTable['output_type'] = 'display_data';\n",
              "          await google.colab.output.renderOutput(dataTable, element);\n",
              "          const docLink = document.createElement('div');\n",
              "          docLink.innerHTML = docLinkHtml;\n",
              "          element.appendChild(docLink);\n",
              "        }\n",
              "      </script>\n",
              "    </div>\n",
              "  </div>\n",
              "  "
            ]
          },
          "metadata": {},
          "execution_count": 25
        }
      ]
    }
  ],
  "metadata": {
    "colab": {
      "provenance": [],
      "include_colab_link": true
    },
    "kernelspec": {
      "display_name": "Python 3",
      "name": "python3"
    },
    "language_info": {
      "name": "python"
    }
  },
  "nbformat": 4,
  "nbformat_minor": 0
}